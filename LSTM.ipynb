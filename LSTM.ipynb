{
 "cells": [
  {
   "cell_type": "code",
   "execution_count": 1,
   "metadata": {},
   "outputs": [
    {
     "name": "stdout",
     "output_type": "stream",
     "text": [
      "[nltk_data] Downloading package stopwords to\n",
      "[nltk_data]     /home/deniska/nltk_data...\n",
      "[nltk_data]   Package stopwords is already up-to-date!\n"
     ]
    },
    {
     "data": {
      "text/plain": [
       "True"
      ]
     },
     "execution_count": 1,
     "metadata": {},
     "output_type": "execute_result"
    }
   ],
   "source": [
    "import numpy as np\n",
    "import pandas as pd\n",
    "import nltk\n",
    "import matplotlib.pyplot as plt\n",
    "from IPython.display import clear_output\n",
    "\n",
    "%matplotlib inline\n",
    "\n",
    "nltk.download(\"stopwords\")"
   ]
  },
  {
   "cell_type": "code",
   "execution_count": 2,
   "metadata": {
    "collapsed": true
   },
   "outputs": [],
   "source": [
    "def stem_text(sentence, stopwords=[None]):\n",
    "    return \" \".join([stemmer.stem(word.decode(\"utf-8\")) for word in sentence.split(\" \")\n",
    "                       if word.decode(\"utf-8\") not in stopwords])"
   ]
  },
  {
   "cell_type": "code",
   "execution_count": 3,
   "metadata": {
    "collapsed": true
   },
   "outputs": [],
   "source": [
    "# our data\n",
    "data = pd.read_csv(\"X_train.csv\")\n",
    "\n",
    "#our stemmer\n",
    "stemmer = nltk.stem.snowball.RussianStemmer(ignore_stopwords=True)  \n",
    "\n",
    "#our tokenizer\n",
    "tokenizer = nltk.tokenize.WordPunctTokenizer()\n",
    "\n",
    "#now stem our comments\n",
    "data.comment = data.comment.apply(stem_text)\n",
    "\n",
    "#turn our data inton numpy arrays\n",
    "comments = data.comment.as_matrix()\n",
    "ratings = data.reting.as_matrix()"
   ]
  },
  {
   "cell_type": "code",
   "execution_count": 4,
   "metadata": {
    "collapsed": true
   },
   "outputs": [],
   "source": [
    "#word - token pairs for further tokenization\n",
    "enumerated_text = enumerate(set([0] + tokenizer.tokenize(\" \".join(comments))))\n",
    "word2token = {w : t for t, w in enumerated_text}\n",
    "\n",
    "#size of our vocab for the embeddin layer\n",
    "VOCAB_SIZE = len(word2token.keys())"
   ]
  },
  {
   "cell_type": "code",
   "execution_count": 5,
   "metadata": {
    "collapsed": true
   },
   "outputs": [],
   "source": [
    "#split the data into train and test sets\n",
    "from sklearn.model_selection import train_test_split\n",
    "\n",
    "X_train, X_test, Y_train, Y_test = train_test_split(comments, ratings, test_size=0.3)\n",
    "Y_train = Y_train.round()"
   ]
  },
  {
   "cell_type": "code",
   "execution_count": 6,
   "metadata": {
    "collapsed": true
   },
   "outputs": [],
   "source": [
    "#standart helper functions\n",
    "\n",
    "def tokenize_sentence(sentence):\n",
    "    sentence = np.asarray([word2token[word] for word in tokenizer.tokenize(sentence)])\n",
    "    return sentence\n",
    "    \n",
    "def onehot(y, n_class=5):\n",
    "    Y = np.zeros((len(y), n_class))\n",
    "    Y[np.arange(len(y)), y] = 1\n",
    "    return Y\n",
    "\n",
    "def sample_train_batch(batch_size):\n",
    "    ixes = np.random.choice(range(len(X_train)), batch_size, False)\n",
    "    x_batch = np.array([tokenize_sentence(X_train[i]) for i in ixes])\n",
    "    y_batch = np.array([Y_train[i] for i in ixes]).astype(\"int32\")\n",
    "    maxlen = len(max(x_batch, key=len))\n",
    "    \n",
    "    return np.array([np.pad(sen, (0, maxlen - len(sen)), \"constant\", constant_values=(0)) for sen in x_batch]), \\\n",
    "            onehot(y_batch - 1)"
   ]
  },
  {
   "cell_type": "code",
   "execution_count": 7,
   "metadata": {},
   "outputs": [
    {
     "name": "stderr",
     "output_type": "stream",
     "text": [
      "WARNING (theano.sandbox.cuda): The cuda backend is deprecated and will be removed in the next release (v0.10).  Please switch to the gpuarray backend. You can get more information about how to switch at this URL:\n",
      " https://github.com/Theano/Theano/wiki/Converting-to-the-new-gpu-back-end%28gpuarray%29\n",
      "\n"
     ]
    },
    {
     "name": "stdout",
     "output_type": "stream",
     "text": [
      "env: THEANO_FLAGS=device=gpu0,floatX=float32\n"
     ]
    },
    {
     "name": "stderr",
     "output_type": "stream",
     "text": [
      "Using gpu device 0: GeForce GTX 1060 6GB (CNMeM is disabled, cuDNN not available)\n"
     ]
    }
   ],
   "source": [
    "%env THEANO_FLAGS=device=gpu0,floatX=float32\n",
    "\n",
    "import theano\n",
    "import theano.tensor as T\n",
    "\n",
    "import lasagne\n",
    "from lasagne.layers import *"
   ]
  },
  {
   "cell_type": "code",
   "execution_count": 8,
   "metadata": {
    "collapsed": true
   },
   "outputs": [],
   "source": [
    "#define our net\n",
    "\n",
    "inputSentence = T.matrix(\"Sentancia\", \"int32\")\n",
    "inputClass = T.matrix(\"Rating\", \"float32\")\n",
    "\n",
    "net = InputLayer((None, None), inputSentence)\n",
    "net = EmbeddingLayer(net, VOCAB_SIZE, 512)\n",
    "\n",
    "net = LSTMLayer(net, 256) \n",
    "net = DropoutLayer(net, 0.5)\n",
    "net = LSTMLayer(net, 256)\n",
    "net = DropoutLayer(net, 0.5)\n",
    "net = LSTMLayer(net, 256, only_return_final=True)\n",
    "\n",
    "net = DenseLayer(net, 256)\n",
    "net = DenseLayer(net, 128)\n",
    "net = DenseLayer(net, 5, nonlinearity=T.nnet.softmax)"
   ]
  },
  {
   "cell_type": "code",
   "execution_count": 9,
   "metadata": {
    "collapsed": true
   },
   "outputs": [],
   "source": [
    "output = get_output(net)\n",
    "loss = lasagne.objectives.categorical_crossentropy(output, inputClass).mean()"
   ]
  },
  {
   "cell_type": "code",
   "execution_count": 10,
   "metadata": {
    "collapsed": true
   },
   "outputs": [],
   "source": [
    "params = get_all_params(net, trainable=True)\n",
    "updates = lasagne.updates.adam(loss, params)\n",
    "train_fun = theano.function([inputSentence, inputClass], loss, updates=updates, allow_input_downcast=True)\n",
    "predict = theano.function([inputSentence], output, allow_input_downcast=True)"
   ]
  },
  {
   "cell_type": "code",
   "execution_count": null,
   "metadata": {
    "scrolled": true
   },
   "outputs": [
    {
     "name": "stdout",
     "output_type": "stream",
     "text": [
      "39800\n"
     ]
    },
    {
     "data": {
      "image/png": "[encoded data removed]",
      "text/plain": [
       "<matplotlib.figure.Figure at 0x7ff886ff0e90>"
      ]
     },
     "metadata": {},
     "output_type": "display_data"
    }
   ],
   "source": [
    "#training loop\n",
    "\n",
    "loss = list()\n",
    "num_epochs = 40000\n",
    "batch_size = 90\n",
    "display_epoch = 200\n",
    "\n",
    "for ep in range(num_epochs):\n",
    "    x, y = sample_train_batch(batch_size)\n",
    "    \n",
    "    loss.append(train_fun(x, y))\n",
    "    \n",
    "    if ep % display_epoch == 0:\n",
    "        clear_output()\n",
    "        clear_output()\n",
    "        print ep\n",
    "        plt.plot(loss)\n",
    "        plt.show()\n"
   ]
  },
  {
   "cell_type": "code",
   "execution_count": 52,
   "metadata": {},
   "outputs": [
    {
     "name": "stdout",
     "output_type": "stream",
     "text": [
      "Your MAE score is: 0.887705794313\n",
      "Yout MSE score is 1.63667735728\n"
     ]
    }
   ],
   "source": [
    "from sklearn.metrics import mean_absolute_error, mean_squared_error\n",
    "predictions = np.array([predict([tokenize_sentence(samp)]).argmax() + 1 for samp in X_test], \n",
    "                       dtype=\"float64\").ravel()\n",
    "mae = mean_absolute_error(Y_test, predictions)\n",
    "mse = mean_squared_error(Y_test, predictions)\n",
    "\n",
    "print \"Your MAE score is:\", mae\n",
    "print \"Yout MSE score is\", mse"
   ]
  }
 ],
 "metadata": {
  "kernelspec": {
   "display_name": "Python 2",
   "language": "python",
   "name": "python2"
  },
  "language_info": {
   "codemirror_mode": {
    "name": "ipython",
    "version": 2
   },
   "file_extension": ".py",
   "mimetype": "text/x-python",
   "name": "python",
   "nbconvert_exporter": "python",
   "pygments_lexer": "ipython2",
   "version": "2.7.13"
  }
 },
 "nbformat": 4,
 "nbformat_minor": 2
}
